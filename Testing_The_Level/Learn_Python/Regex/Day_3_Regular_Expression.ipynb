{
 "cells": [
  {
   "cell_type": "markdown",
   "id": "b3308404",
   "metadata": {},
   "source": [
    "## Regrex/Regular Expression :\n",
    "* Allow us for search and match the specific pattern.\n"
   ]
  },
  {
   "cell_type": "code",
   "execution_count": 1,
   "id": "4e3c445c",
   "metadata": {},
   "outputs": [],
   "source": [
    "import re"
   ]
  },
  {
   "cell_type": "code",
   "execution_count": 4,
   "id": "4d6fed77",
   "metadata": {},
   "outputs": [
    {
     "data": {
      "text/plain": [
       "<re.Match object; span=(0, 17), match='The rain in Spain'>"
      ]
     },
     "execution_count": 4,
     "metadata": {},
     "output_type": "execute_result"
    }
   ],
   "source": [
    "txt = \"The rain in Spain\"\n",
    "x = re.search(\"^The.*Spain$\", txt)\n",
    "x"
   ]
  },
  {
   "cell_type": "code",
   "execution_count": 11,
   "id": "4f90964c",
   "metadata": {
    "scrolled": true
   },
   "outputs": [
    {
     "data": {
      "text/plain": [
       "['hello']"
      ]
     },
     "execution_count": 11,
     "metadata": {},
     "output_type": "execute_result"
    }
   ],
   "source": [
    "re.findall(\"he..o\",\"hellowin\")"
   ]
  },
  {
   "cell_type": "code",
   "execution_count": 20,
   "id": "7a935213",
   "metadata": {},
   "outputs": [
    {
     "data": {
      "text/plain": [
       "['hello']"
      ]
     },
     "execution_count": 20,
     "metadata": {},
     "output_type": "execute_result"
    }
   ],
   "source": [
    "re.findall(\"^hello\",\"helloanything at end\")"
   ]
  },
  {
   "cell_type": "code",
   "execution_count": 26,
   "id": "4f9272d2",
   "metadata": {},
   "outputs": [
    {
     "data": {
      "text/plain": [
       "[]"
      ]
     },
     "execution_count": 26,
     "metadata": {},
     "output_type": "execute_result"
    }
   ],
   "source": [
    "re.findall(\"any$\",\"helloanythingatend\")"
   ]
  },
  {
   "cell_type": "code",
   "execution_count": 27,
   "id": "24c41fde",
   "metadata": {},
   "outputs": [
    {
     "name": "stdout",
     "output_type": "stream",
     "text": [
      "[]\n"
     ]
    }
   ],
   "source": [
    "txt = \"The rain in Spain\"\n",
    "x = re.findall(\"Portugal\", txt)\n",
    "print(x)"
   ]
  },
  {
   "cell_type": "code",
   "execution_count": 29,
   "id": "13102188",
   "metadata": {},
   "outputs": [
    {
     "name": "stdout",
     "output_type": "stream",
     "text": [
      "The first white-space character is located in position: <re.Match object; span=(3, 4), match=' '>\n"
     ]
    }
   ],
   "source": [
    "txt = \"The rain in Spain\"\n",
    "x = re.search(\"\\s\", txt)\n",
    "\n",
    "print(\"The first white-space character is located in position:\", x)"
   ]
  },
  {
   "cell_type": "code",
   "execution_count": 30,
   "id": "bf6b1f80",
   "metadata": {},
   "outputs": [
    {
     "name": "stdout",
     "output_type": "stream",
     "text": [
      "['The', 'rain', 'in', 'Spain']\n"
     ]
    }
   ],
   "source": [
    "\n",
    "txt = \"The rain in Spain\"\n",
    "x = re.split(\"\\s\", txt)\n",
    "print(x)"
   ]
  },
  {
   "cell_type": "code",
   "execution_count": 31,
   "id": "733bc173",
   "metadata": {},
   "outputs": [
    {
     "name": "stdout",
     "output_type": "stream",
     "text": [
      "The9rain9in9Spain\n"
     ]
    }
   ],
   "source": [
    "import re\n",
    "\n",
    "txt = \"The rain in Spain\"\n",
    "x = re.sub(\"\\s\", \"9\", txt)\n",
    "print(x)"
   ]
  },
  {
   "cell_type": "code",
   "execution_count": 32,
   "id": "a4a87924",
   "metadata": {},
   "outputs": [
    {
     "name": "stdout",
     "output_type": "stream",
     "text": [
      "The9rain9in Spain\n"
     ]
    }
   ],
   "source": [
    "txt = \"The rain in Spain\"\n",
    "x = re.sub(\"\\s\", \"9\", txt, 2)\n",
    "print(x)"
   ]
  },
  {
   "cell_type": "code",
   "execution_count": 33,
   "id": "bb43b701",
   "metadata": {},
   "outputs": [
    {
     "name": "stdout",
     "output_type": "stream",
     "text": [
      "(12, 17)\n"
     ]
    }
   ],
   "source": [
    "txt = \"The rain in Spain\"\n",
    "x = re.search(r\"\\bS\\w+\", txt)\n",
    "print(x.span())"
   ]
  },
  {
   "cell_type": "code",
   "execution_count": null,
   "id": "899eb378",
   "metadata": {},
   "outputs": [],
   "source": []
  },
  {
   "cell_type": "code",
   "execution_count": null,
   "id": "8e6cdf52",
   "metadata": {},
   "outputs": [],
   "source": []
  },
  {
   "cell_type": "code",
   "execution_count": null,
   "id": "58394cd9",
   "metadata": {},
   "outputs": [],
   "source": []
  },
  {
   "cell_type": "code",
   "execution_count": null,
   "id": "50b66db5",
   "metadata": {},
   "outputs": [],
   "source": []
  },
  {
   "cell_type": "code",
   "execution_count": null,
   "id": "335fd2ee",
   "metadata": {},
   "outputs": [],
   "source": []
  },
  {
   "cell_type": "code",
   "execution_count": null,
   "id": "1addde1b",
   "metadata": {},
   "outputs": [],
   "source": []
  },
  {
   "cell_type": "code",
   "execution_count": 2,
   "id": "a9eeaa8d",
   "metadata": {},
   "outputs": [],
   "source": [
    "text_to_search = '''\n",
    "\n",
    "CoreyMSchafer@gmail.com\n",
    "corey.schafer@university.edu\n",
    "corey-321-schafer@my-work.net\n",
    "\n",
    "\n",
    "abcdefghijklmnopqurtuvwxyz\n",
    "ABCDEFGHIJKLMNOPQRSTUVWXYZ\n",
    "1234567890\n",
    "Ha HaHa\n",
    "MetaCharacters (Need to be escaped):\n",
    ". ^ $ * + ? { } [ ] \\ | ( )\n",
    "coreyms.com\n",
    "321-555-4321\n",
    "123.555.1234\n",
    "123*555*1234\n",
    "800-555-1234\n",
    "900-555-1234\n",
    "Mr. Schafer\n",
    "Mr Smith\n",
    "Ms Davis\n",
    "Mrs. Robinson\n",
    "Mr. T\n",
    "\n",
    "cat\n",
    "mat\n",
    "pat\n",
    "bat\n",
    "'''\n"
   ]
  },
  {
   "cell_type": "code",
   "execution_count": null,
   "id": "ad10d66b",
   "metadata": {},
   "outputs": [],
   "source": []
  },
  {
   "cell_type": "markdown",
   "id": "eb78c5c0",
   "metadata": {},
   "source": [
    "Raw String : to handle back shlashes , they are used to specify tabs or new lines. we put r in front of string ."
   ]
  },
  {
   "cell_type": "code",
   "execution_count": 113,
   "id": "41c42f45",
   "metadata": {},
   "outputs": [
    {
     "name": "stdout",
     "output_type": "stream",
     "text": [
      "\tTab\n"
     ]
    }
   ],
   "source": [
    "print('\\tTab')"
   ]
  },
  {
   "cell_type": "code",
   "execution_count": 114,
   "id": "f578361a",
   "metadata": {},
   "outputs": [
    {
     "name": "stdout",
     "output_type": "stream",
     "text": [
      "\\tTab\n"
     ]
    }
   ],
   "source": [
    "print(r'\\tTab')"
   ]
  },
  {
   "cell_type": "markdown",
   "id": "5d8d9532",
   "metadata": {},
   "source": [
    "### compiled method :\n",
    "allow ys to seperate out our patterns into a variables and also make it reuse the variables.\n"
   ]
  },
  {
   "cell_type": "code",
   "execution_count": 35,
   "id": "f899b5eb",
   "metadata": {},
   "outputs": [
    {
     "data": {
      "text/plain": [
       "re.compile(r'.', re.UNICODE)"
      ]
     },
     "execution_count": 35,
     "metadata": {},
     "output_type": "execute_result"
    }
   ],
   "source": [
    "pattern = re.compile(r'.')\n",
    "pattern"
   ]
  },
  {
   "cell_type": "code",
   "execution_count": 36,
   "id": "4352a712",
   "metadata": {},
   "outputs": [],
   "source": [
    "# search pattern throughout the above text\n"
   ]
  },
  {
   "cell_type": "code",
   "execution_count": 37,
   "id": "cef10b95",
   "metadata": {},
   "outputs": [
    {
     "name": "stdout",
     "output_type": "stream",
     "text": [
      "<callable_iterator object at 0x000001E4CDB2B730>\n"
     ]
    }
   ],
   "source": [
    "matches = pattern.finditer(text_to_search)\n",
    "print(matches)\n",
    " "
   ]
  },
  {
   "cell_type": "code",
   "execution_count": 127,
   "id": "6bd7fbdb",
   "metadata": {
    "scrolled": false
   },
   "outputs": [],
   "source": [
    "# for match in matches:\n",
    "#     print(match)"
   ]
  },
  {
   "cell_type": "markdown",
   "id": "4614e5c0",
   "metadata": {},
   "source": [
    "* span has index start and end .\n",
    "* it is case sensitivity."
   ]
  },
  {
   "cell_type": "code",
   "execution_count": 34,
   "id": "d629a601",
   "metadata": {},
   "outputs": [
    {
     "data": {
      "text/plain": [
       "'abc'"
      ]
     },
     "execution_count": 34,
     "metadata": {},
     "output_type": "execute_result"
    }
   ],
   "source": [
    "text_to_search[1:4]"
   ]
  },
  {
   "cell_type": "code",
   "execution_count": 39,
   "id": "fa4197a0",
   "metadata": {},
   "outputs": [],
   "source": [
    "# . : it matches with everything"
   ]
  },
  {
   "cell_type": "code",
   "execution_count": 45,
   "id": "4c5aba93",
   "metadata": {},
   "outputs": [
    {
     "name": "stdout",
     "output_type": "stream",
     "text": [
      "<re.Match object; span=(111, 112), match='.'>\n",
      "<re.Match object; span=(146, 147), match='.'>\n",
      "<re.Match object; span=(167, 168), match='.'>\n",
      "<re.Match object; span=(171, 172), match='.'>\n",
      "<re.Match object; span=(218, 219), match='.'>\n",
      "<re.Match object; span=(249, 250), match='.'>\n",
      "<re.Match object; span=(262, 263), match='.'>\n"
     ]
    }
   ],
   "source": [
    "pattern = re.compile(r'\\.')\n",
    "matches = pattern.finditer(text_to_search)\n",
    "\n",
    "for match in matches:\n",
    "    print(match)"
   ]
  },
  {
   "cell_type": "code",
   "execution_count": 51,
   "id": "0e6394f9",
   "metadata": {},
   "outputs": [
    {
     "name": "stdout",
     "output_type": "stream",
     "text": [
      "<re.Match object; span=(216, 227), match='Mr. Schafer'>\n"
     ]
    }
   ],
   "source": [
    "pattern = re.compile(r'Mr\\. Schafer')\n",
    "matches = pattern.finditer(text_to_search)\n",
    "for match in matches:\n",
    "    print(match)"
   ]
  },
  {
   "cell_type": "markdown",
   "id": "7e707052",
   "metadata": {},
   "source": [
    "* . matches any character except newline.\n",
    "* \\d mathes digit 0-9\n",
    "* \\D matches not digit\n",
    "* \\w mathes word character (a-z,A-z,0-9,_)\n",
    "* \\s whitespace\n",
    "\n",
    "## Anchor :\n",
    "this not matches with any character but rather invisible position before and after characters .this are just hidden \n",
    "*\\b word boundary "
   ]
  },
  {
   "cell_type": "code",
   "execution_count": 34,
   "id": "dbb6b26d",
   "metadata": {},
   "outputs": [
    {
     "name": "stdout",
     "output_type": "stream",
     "text": [
      "<re.Match object; span=(157, 159), match='Ha'>\n"
     ]
    }
   ],
   "source": [
    "pattern = re.compile(r'\\BHa')\n",
    "matches = pattern.finditer(text_to_search)\n",
    "for match in matches:\n",
    "    print(match)"
   ]
  },
  {
   "cell_type": "code",
   "execution_count": 35,
   "id": "8b106d48",
   "metadata": {},
   "outputs": [
    {
     "name": "stdout",
     "output_type": "stream",
     "text": [
      "<re.Match object; span=(302, 313), match='Mr. Schafer'>\n"
     ]
    }
   ],
   "source": [
    "pattern = re.compile(r'Mr\\. Schafer')\n",
    "matches = pattern.finditer(text_to_search)\n",
    "for match in matches:\n",
    "    print(match)"
   ]
  },
  {
   "cell_type": "code",
   "execution_count": 36,
   "id": "1d3eed54",
   "metadata": {},
   "outputs": [],
   "source": [
    "sentence = 'Start a sentence and then bring it to the end'"
   ]
  },
  {
   "cell_type": "code",
   "execution_count": 37,
   "id": "7cd24886",
   "metadata": {},
   "outputs": [
    {
     "name": "stdout",
     "output_type": "stream",
     "text": [
      "<re.Match object; span=(42, 45), match='end'>\n"
     ]
    }
   ],
   "source": [
    "pattern = re.compile(r'end$')\n",
    "matches = pattern.finditer(sentence)\n",
    "for match in matches:\n",
    "    print(match)"
   ]
  },
  {
   "cell_type": "code",
   "execution_count": 38,
   "id": "635f4f34",
   "metadata": {},
   "outputs": [
    {
     "name": "stdout",
     "output_type": "stream",
     "text": [
      "<re.Match object; span=(237, 248), match='321-555-432'>\n",
      "<re.Match object; span=(250, 261), match='123.555.123'>\n",
      "<re.Match object; span=(263, 274), match='123*555*123'>\n",
      "<re.Match object; span=(276, 287), match='800-555-123'>\n",
      "<re.Match object; span=(289, 300), match='900-555-123'>\n"
     ]
    }
   ],
   "source": [
    "pattern = re.compile(r'\\d\\d\\d.\\d\\d\\d.\\d\\d\\d')\n",
    "matches = pattern.finditer(text_to_search)\n",
    "for match in matches:\n",
    "    print(match)"
   ]
  },
  {
   "cell_type": "code",
   "execution_count": 39,
   "id": "40cc5338",
   "metadata": {},
   "outputs": [
    {
     "name": "stdout",
     "output_type": "stream",
     "text": [
      "<re.Match object; span=(353, 356), match='cat'>\n",
      "<re.Match object; span=(357, 360), match='mat'>\n",
      "<re.Match object; span=(361, 364), match='pat'>\n"
     ]
    }
   ],
   "source": [
    "pattern = re.compile(r'[^b]at')\n",
    "matches = pattern.finditer(text_to_search)\n",
    "for match in matches:\n",
    "    print(match)"
   ]
  },
  {
   "cell_type": "markdown",
   "id": "4193c648",
   "metadata": {},
   "source": [
    "## Quantifier :\n",
    "* *** o or more**"
   ]
  },
  {
   "cell_type": "code",
   "execution_count": 40,
   "id": "20408170",
   "metadata": {},
   "outputs": [
    {
     "name": "stdout",
     "output_type": "stream",
     "text": [
      "<re.Match object; span=(237, 249), match='321-555-4321'>\n",
      "<re.Match object; span=(250, 262), match='123.555.1234'>\n",
      "<re.Match object; span=(263, 275), match='123*555*1234'>\n",
      "<re.Match object; span=(276, 288), match='800-555-1234'>\n",
      "<re.Match object; span=(289, 301), match='900-555-1234'>\n"
     ]
    }
   ],
   "source": [
    "pattern = re.compile(r'\\d{3}.\\d{3}.\\d{4}')\n",
    "matches = pattern.finditer(text_to_search)\n",
    "for match in matches:\n",
    "    print(match)"
   ]
  },
  {
   "cell_type": "markdown",
   "id": "dea49775",
   "metadata": {},
   "source": [
    "* ? for optional"
   ]
  },
  {
   "cell_type": "code",
   "execution_count": 41,
   "id": "d71328be",
   "metadata": {},
   "outputs": [
    {
     "name": "stdout",
     "output_type": "stream",
     "text": [
      "<re.Match object; span=(302, 305), match='Mr.'>\n",
      "<re.Match object; span=(314, 316), match='Mr'>\n",
      "<re.Match object; span=(332, 334), match='Mr'>\n",
      "<re.Match object; span=(346, 349), match='Mr.'>\n"
     ]
    }
   ],
   "source": [
    "pattern = re.compile(r'Mr\\.?')\n",
    "matches = pattern.finditer(text_to_search)\n",
    "for match in matches:\n",
    "    print(match)"
   ]
  },
  {
   "cell_type": "code",
   "execution_count": 42,
   "id": "a39311cb",
   "metadata": {},
   "outputs": [
    {
     "name": "stdout",
     "output_type": "stream",
     "text": [
      "<re.Match object; span=(302, 313), match='Mr. Schafer'>\n",
      "<re.Match object; span=(314, 322), match='Mr Smith'>\n",
      "<re.Match object; span=(346, 351), match='Mr. T'>\n"
     ]
    }
   ],
   "source": [
    "pattern = re.compile(r'Mr\\.?\\s[A-Z]\\w*')\n",
    "matches = pattern.finditer(text_to_search)\n",
    "for match in matches:\n",
    "    print(match)"
   ]
  },
  {
   "cell_type": "code",
   "execution_count": 43,
   "id": "e867ac62",
   "metadata": {},
   "outputs": [
    {
     "name": "stdout",
     "output_type": "stream",
     "text": [
      "<re.Match object; span=(302, 313), match='Mr. Schafer'>\n",
      "<re.Match object; span=(314, 322), match='Mr Smith'>\n",
      "<re.Match object; span=(323, 331), match='Ms Davis'>\n",
      "<re.Match object; span=(332, 345), match='Mrs. Robinson'>\n",
      "<re.Match object; span=(346, 351), match='Mr. T'>\n"
     ]
    }
   ],
   "source": [
    "pattern = re.compile(r'M(r|s|rs)\\.?\\s[A-Z]\\w*')\n",
    "matches = pattern.finditer(text_to_search)\n",
    "for match in matches:\n",
    "    print(match)"
   ]
  },
  {
   "cell_type": "code",
   "execution_count": 44,
   "id": "6380e2f7",
   "metadata": {},
   "outputs": [
    {
     "name": "stdout",
     "output_type": "stream",
     "text": [
      "<re.Match object; span=(302, 313), match='Mr. Schafer'>\n",
      "<re.Match object; span=(314, 322), match='Mr Smith'>\n",
      "<re.Match object; span=(323, 331), match='Ms Davis'>\n",
      "<re.Match object; span=(332, 345), match='Mrs. Robinson'>\n",
      "<re.Match object; span=(346, 351), match='Mr. T'>\n"
     ]
    }
   ],
   "source": [
    "pattern = re.compile(r'(Mr|Ms|Mrs)\\.?\\s[A-Z]\\w*')\n",
    "matches = pattern.finditer(text_to_search)\n",
    "for match in matches:\n",
    "    print(match)"
   ]
  },
  {
   "cell_type": "code",
   "execution_count": 45,
   "id": "2742a36a",
   "metadata": {},
   "outputs": [
    {
     "name": "stdout",
     "output_type": "stream",
     "text": [
      "<re.Match object; span=(2, 25), match='CoreyMSchafer@gmail.com'>\n",
      "<re.Match object; span=(26, 54), match='corey.schafer@university.edu'>\n",
      "<re.Match object; span=(55, 84), match='corey-321-schafer@my-work.net'>\n"
     ]
    }
   ],
   "source": [
    "pattern = re.compile(r'[a-zA-Z0-9_.+-]+@[a-zA-Z0-9-]+\\.(com|edu|net)')\n",
    "matches = pattern.finditer(text_to_search)\n",
    "for match in matches:\n",
    "    print(match)"
   ]
  },
  {
   "cell_type": "code",
   "execution_count": 46,
   "id": "6896a027",
   "metadata": {},
   "outputs": [],
   "source": [
    "url = '''\n",
    "https://www.google.com\n",
    "http://www.nasa.com\n",
    "https://youtube.com\n",
    "https://coreyms.com\n",
    "'''"
   ]
  },
  {
   "cell_type": "code",
   "execution_count": 47,
   "id": "3e7d5bae",
   "metadata": {},
   "outputs": [
    {
     "name": "stdout",
     "output_type": "stream",
     "text": [
      "<re.Match object; span=(1, 23), match='https://www.google.com'>\n",
      "<re.Match object; span=(24, 43), match='http://www.nasa.com'>\n",
      "<re.Match object; span=(44, 63), match='https://youtube.com'>\n",
      "<re.Match object; span=(64, 83), match='https://coreyms.com'>\n"
     ]
    }
   ],
   "source": [
    "pattern = re.compile(r'(https|http)+://+(www\\.)?\\w+\\.(com)')\n",
    "\n",
    "matches = pattern.finditer(url)\n",
    "\n",
    "for i in matches:\n",
    "    print(i)"
   ]
  },
  {
   "cell_type": "code",
   "execution_count": 48,
   "id": "734d545b",
   "metadata": {},
   "outputs": [
    {
     "name": "stdout",
     "output_type": "stream",
     "text": [
      "https://www.google.com\n",
      "www.\n",
      "google\n",
      ".com\n",
      "http://www.nasa.com\n",
      "www.\n",
      "nasa\n",
      ".com\n",
      "https://youtube.com\n",
      "None\n",
      "youtube\n",
      ".com\n",
      "https://coreyms.com\n",
      "None\n",
      "coreyms\n",
      ".com\n"
     ]
    }
   ],
   "source": [
    "pattern = re.compile(r'https?://+(www\\.)?(\\w+)(\\.\\w+)')\n",
    "\n",
    "matches = pattern.finditer(url)\n",
    "\n",
    "for i in matches:\n",
    "    print(i.group(0))\n",
    "    print(i.group(1))\n",
    "    print(i.group(2))\n",
    "    print(i.group(3))\n",
    "     "
   ]
  },
  {
   "cell_type": "markdown",
   "id": "f67817f0",
   "metadata": {},
   "source": [
    "### Back Refrenced"
   ]
  },
  {
   "cell_type": "code",
   "execution_count": 49,
   "id": "e727ca34",
   "metadata": {},
   "outputs": [
    {
     "name": "stdout",
     "output_type": "stream",
     "text": [
      "\n",
      "google.com\n",
      "nasa.com\n",
      "youtube.com\n",
      "coreyms.com\n",
      "\n"
     ]
    }
   ],
   "source": [
    "pattern = re.compile(r'https?://+(www\\.)?(\\w+)(\\.\\w+)')\n",
    "subbed_url = pattern.sub(r'\\2\\3',url)\n",
    " \n",
    "\n",
    "matches = pattern.finditer(url)\n",
    "\n",
    "print(subbed_url)"
   ]
  },
  {
   "cell_type": "code",
   "execution_count": 50,
   "id": "119a623a",
   "metadata": {},
   "outputs": [
    {
     "name": "stdout",
     "output_type": "stream",
     "text": [
      "Mr\n",
      "Mr\n",
      "Ms\n",
      "Mrs\n",
      "Mr\n"
     ]
    }
   ],
   "source": [
    "pattern = re.compile(r'(Mr|Ms|Mrs)\\.?\\s[A-Z]\\w*')\n",
    "matches = pattern.findall(text_to_search) # return mathces as a list of string ,only return first group \n",
    "for match in matches:\n",
    "    print(match)"
   ]
  },
  {
   "cell_type": "code",
   "execution_count": 51,
   "id": "71f70c62",
   "metadata": {},
   "outputs": [
    {
     "name": "stdout",
     "output_type": "stream",
     "text": [
      "<re.Match object; span=(237, 249), match='321-555-4321'>\n",
      "<re.Match object; span=(276, 288), match='800-555-1234'>\n",
      "<re.Match object; span=(289, 301), match='900-555-1234'>\n"
     ]
    }
   ],
   "source": [
    "pattern = re.compile(r'\\d{3}-\\d{3}-\\d{4}')\n",
    "matches = pattern.finditer(text_to_search)\n",
    "for match in matches:\n",
    "    print(match)"
   ]
  },
  {
   "cell_type": "code",
   "execution_count": 52,
   "id": "4f9fb044",
   "metadata": {},
   "outputs": [
    {
     "name": "stdout",
     "output_type": "stream",
     "text": [
      "<re.Match object; span=(0, 5), match='Start'>\n"
     ]
    }
   ],
   "source": [
    "pattern = re.compile(r'Start') # mathces things at begning \n",
    "matches = pattern.match(sentence)\n",
    " \n",
    "print(matches)"
   ]
  },
  {
   "cell_type": "code",
   "execution_count": 53,
   "id": "8403e2fc",
   "metadata": {},
   "outputs": [
    {
     "name": "stdout",
     "output_type": "stream",
     "text": [
      "<re.Match object; span=(8, 16), match='sentence'>\n"
     ]
    }
   ],
   "source": [
    "pattern = re.compile(r'sentence') # mathces things at begning \n",
    "matches = pattern.search(sentence)\n",
    " \n",
    "print(matches)"
   ]
  },
  {
   "cell_type": "code",
   "execution_count": 54,
   "id": "27cb23f5",
   "metadata": {},
   "outputs": [
    {
     "name": "stdout",
     "output_type": "stream",
     "text": [
      "None\n"
     ]
    }
   ],
   "source": [
    "pattern = re.compile(r'syuentenc') # mathces things at begning \n",
    "matches = pattern.search(sentence)\n",
    " \n",
    "print(matches)"
   ]
  },
  {
   "cell_type": "code",
   "execution_count": 55,
   "id": "66dbd6cd",
   "metadata": {},
   "outputs": [
    {
     "name": "stdout",
     "output_type": "stream",
     "text": [
      "None\n"
     ]
    }
   ],
   "source": [
    "pattern = re.compile(r'[aA][sS]') # mathces things at begning \n",
    "matches = pattern.search(sentence)\n",
    " \n",
    "print(matches)"
   ]
  },
  {
   "cell_type": "code",
   "execution_count": 56,
   "id": "b9c6d39c",
   "metadata": {},
   "outputs": [
    {
     "name": "stdout",
     "output_type": "stream",
     "text": [
      "<re.Match object; span=(0, 5), match='Start'>\n"
     ]
    }
   ],
   "source": [
    "pattern = re.compile(r'start',re.IGNORECASE) # lower or uppercase it will ignore \n",
    "matches = pattern.search(sentence)\n",
    " \n",
    "print(matches)"
   ]
  },
  {
   "cell_type": "code",
   "execution_count": 57,
   "id": "cd34de4b",
   "metadata": {},
   "outputs": [
    {
     "name": "stdout",
     "output_type": "stream",
     "text": [
      "<re.Match object; span=(0, 5), match='Start'>\n"
     ]
    }
   ],
   "source": [
    "pattern = re.compile(r'start',re.I) # lower or uppercase it will ignore \n",
    "matches = pattern.search(sentence)\n",
    " \n",
    "print(matches)"
   ]
  },
  {
   "cell_type": "code",
   "execution_count": 58,
   "id": "71a1bc56",
   "metadata": {},
   "outputs": [
    {
     "name": "stdout",
     "output_type": "stream",
     "text": [
      "None\n"
     ]
    }
   ],
   "source": [
    "pattern = re.compile(r'start',re.MULTILINE) # \n",
    "matches = pattern.search(sentence)\n",
    " \n",
    "print(matches)"
   ]
  },
  {
   "cell_type": "code",
   "execution_count": 59,
   "id": "c8daf542",
   "metadata": {},
   "outputs": [
    {
     "name": "stdout",
     "output_type": "stream",
     "text": [
      "<re.Match object; span=(0, 0), match=''>\n"
     ]
    }
   ],
   "source": [
    "pattern = re.compile(r' ',re.VERBOSE) #  allow add widespace and comments within the pattern break up segment into peices \n",
    "matches = pattern.search(sentence)\n",
    " \n",
    "print(matches)"
   ]
  },
  {
   "cell_type": "code",
   "execution_count": null,
   "id": "3aef6960",
   "metadata": {},
   "outputs": [],
   "source": []
  },
  {
   "cell_type": "code",
   "execution_count": null,
   "id": "ff848cee",
   "metadata": {},
   "outputs": [],
   "source": []
  }
 ],
 "metadata": {
  "kernelspec": {
   "display_name": "Python 3 (ipykernel)",
   "language": "python",
   "name": "python3"
  },
  "language_info": {
   "codemirror_mode": {
    "name": "ipython",
    "version": 3
   },
   "file_extension": ".py",
   "mimetype": "text/x-python",
   "name": "python",
   "nbconvert_exporter": "python",
   "pygments_lexer": "ipython3",
   "version": "3.9.7"
  }
 },
 "nbformat": 4,
 "nbformat_minor": 5
}
