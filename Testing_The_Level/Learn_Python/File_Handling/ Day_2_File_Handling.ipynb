{
 "cells": [
  {
   "cell_type": "markdown",
   "id": "f4179264",
   "metadata": {},
   "source": [
    "## Why we need File Handling ?\n",
    "* Because to take input from user we have two method either traditionally or through command line.\n",
    "* but in this both methods one thing is difficult is to write input in each line everytime.\n",
    "* what we can do this we can write our input into one file and give it.\n",
    "\n"
   ]
  },
  {
   "cell_type": "markdown",
   "id": "23267653",
   "metadata": {},
   "source": [
    "## Types Of Files\n",
    "* Windows supports :\n",
    "    * Images\n",
    "    * Text\n",
    "    * Executable\n",
    "    * Audio\n",
    "* Python supports\n",
    "    * Binary\n",
    "    * Text : EOL (end of line ).\n",
    "        "
   ]
  },
  {
   "cell_type": "markdown",
   "id": "c7583142",
   "metadata": {},
   "source": [
    "# What is File Handling ?\n",
    "**CRUD** : operation done with file\n",
    "\n",
    "   * Creating\n",
    "   * Reading\n",
    "   * Updating\n",
    "   * Deletion"
   ]
  },
  {
   "cell_type": "markdown",
   "id": "8f5551ac",
   "metadata": {},
   "source": [
    "Create File\n",
    "\n",
    "   |\n",
    "   \n",
    "   |\n",
    "   \n",
    "   v\n",
    "   \n",
    "Open File\n",
    "\n",
    "   |\n",
    "   \n",
    "   |\n",
    "   \n",
    "   v\n",
    "   \n",
    " Work\n",
    " \n",
    "   |\n",
    "   \n",
    "   |\n",
    "   \n",
    "   v\n",
    "   \n",
    "Close File\n"
   ]
  },
  {
   "cell_type": "markdown",
   "id": "ffc9d073",
   "metadata": {},
   "source": [
    "## Open:\n",
    "two paramter :\n",
    "* File Name\n",
    "* Mode :\n",
    "    * r (read):\n",
    "    * w (write):\n",
    "    * a (append):\n",
    "    * x (create):\n",
    "* category :\n",
    "    * t (text)\n",
    "    * b (binary)\n",
    "        "
   ]
  },
  {
   "cell_type": "markdown",
   "id": "9c289882",
   "metadata": {},
   "source": [
    "## Read :\n",
    "\n",
    "* open(filename,mode)\n",
    "* **Lots of Ways to read a text file in Python** :\n"
   ]
  },
  {
   "cell_type": "code",
   "execution_count": 3,
   "id": "46fa1338",
   "metadata": {},
   "outputs": [],
   "source": [
    "import os\n"
   ]
  },
  {
   "cell_type": "code",
   "execution_count": 58,
   "id": "af7628a4",
   "metadata": {},
   "outputs": [
    {
     "data": {
      "text/plain": [
       "'hii'"
      ]
     },
     "execution_count": 58,
     "metadata": {},
     "output_type": "execute_result"
    }
   ],
   "source": [
    "file = open(\"C:/Users/rani/Downloads/31.txt\")\n",
    "file.read()"
   ]
  },
  {
   "cell_type": "code",
   "execution_count": 59,
   "id": "960277f9",
   "metadata": {},
   "outputs": [
    {
     "data": {
      "text/plain": [
       "'hii'"
      ]
     },
     "execution_count": 59,
     "metadata": {},
     "output_type": "execute_result"
    }
   ],
   "source": [
    "file = open(\"C:/Users/rani/Downloads/31.txt\")\n",
    "file.read(5)\n",
    " "
   ]
  },
  {
   "cell_type": "code",
   "execution_count": 60,
   "id": "b5ad3269",
   "metadata": {},
   "outputs": [
    {
     "data": {
      "text/plain": [
       "'hii'"
      ]
     },
     "execution_count": 60,
     "metadata": {},
     "output_type": "execute_result"
    }
   ],
   "source": [
    "file = open(\"C:/Users/rani/Downloads/31.txt\",\"r\")\n",
    "file.readline()\n",
    " "
   ]
  },
  {
   "cell_type": "code",
   "execution_count": 61,
   "id": "c3647999",
   "metadata": {},
   "outputs": [
    {
     "data": {
      "text/plain": [
       "['hii']"
      ]
     },
     "execution_count": 61,
     "metadata": {},
     "output_type": "execute_result"
    }
   ],
   "source": [
    "file = open(\"C:/Users/rani/Downloads/31.txt\",\"r\")\n",
    "file.readlines()\n",
    " "
   ]
  },
  {
   "cell_type": "code",
   "execution_count": 62,
   "id": "3fb94df6",
   "metadata": {},
   "outputs": [
    {
     "name": "stdout",
     "output_type": "stream",
     "text": [
      "\n"
     ]
    }
   ],
   "source": [
    "file = open(\"C:/Users/rani/Downloads/31.txt\",\"r\")\n",
    "for line in file:\n",
    "    print(file.readline())\n",
    " "
   ]
  },
  {
   "cell_type": "code",
   "execution_count": 63,
   "id": "d509f4a7",
   "metadata": {},
   "outputs": [
    {
     "name": "stdout",
     "output_type": "stream",
     "text": [
      "[]\n"
     ]
    }
   ],
   "source": [
    "file = open(\"C:/Users/rani/Downloads/31.txt\")\n",
    "for line in file:\n",
    "    print(file.readlines())\n",
    "file.close()"
   ]
  },
  {
   "cell_type": "markdown",
   "id": "880ab9bd",
   "metadata": {},
   "source": [
    "## Write"
   ]
  },
  {
   "cell_type": "code",
   "execution_count": null,
   "id": "632a7956",
   "metadata": {},
   "outputs": [],
   "source": [
    " "
   ]
  },
  {
   "cell_type": "code",
   "execution_count": 64,
   "id": "5692e46d",
   "metadata": {},
   "outputs": [
    {
     "data": {
      "text/plain": [
       "3"
      ]
     },
     "execution_count": 64,
     "metadata": {},
     "output_type": "execute_result"
    }
   ],
   "source": [
    "file = open(\"C:/Users/rani/Downloads/31.txt\",'w')\n",
    "file.write(\"hii\")"
   ]
  },
  {
   "cell_type": "code",
   "execution_count": 65,
   "id": "65aa6057",
   "metadata": {},
   "outputs": [
    {
     "data": {
      "text/plain": [
       "'hii'"
      ]
     },
     "execution_count": 65,
     "metadata": {},
     "output_type": "execute_result"
    }
   ],
   "source": [
    "file = open(\"C:/Users/rani/Downloads/31.txt\",'r')\n",
    "file.read()"
   ]
  },
  {
   "cell_type": "code",
   "execution_count": 79,
   "id": "0a08f64d",
   "metadata": {},
   "outputs": [
    {
     "data": {
      "text/plain": [
       "12"
      ]
     },
     "execution_count": 79,
     "metadata": {},
     "output_type": "execute_result"
    }
   ],
   "source": [
    "file = open(\"C:/Users/rani/new_fil.txt\",\"x\")\n",
    "file.write(\"hii new file\")"
   ]
  },
  {
   "cell_type": "code",
   "execution_count": 80,
   "id": "7d79570d",
   "metadata": {},
   "outputs": [
    {
     "data": {
      "text/plain": [
       "'hii new file'"
      ]
     },
     "execution_count": 80,
     "metadata": {},
     "output_type": "execute_result"
    }
   ],
   "source": [
    "file = open(\"C:/Users/rani/new_fil.txt\",'r')\n",
    "file.read()"
   ]
  },
  {
   "cell_type": "markdown",
   "id": "9b741f87",
   "metadata": {},
   "source": [
    "# Deletion"
   ]
  },
  {
   "cell_type": "code",
   "execution_count": 73,
   "id": "37a18d80",
   "metadata": {},
   "outputs": [],
   "source": [
    "import os"
   ]
  },
  {
   "cell_type": "code",
   "execution_count": 81,
   "id": "5e6b784a",
   "metadata": {},
   "outputs": [
    {
     "ename": "PermissionError",
     "evalue": "[WinError 32] The process cannot access the file because it is being used by another process: 'C:/Users/rani/new_fil.txt'",
     "output_type": "error",
     "traceback": [
      "\u001b[1;31m---------------------------------------------------------------------------\u001b[0m",
      "\u001b[1;31mPermissionError\u001b[0m                           Traceback (most recent call last)",
      "Input \u001b[1;32mIn [81]\u001b[0m, in \u001b[0;36m<cell line: 1>\u001b[1;34m()\u001b[0m\n\u001b[0;32m      1\u001b[0m \u001b[38;5;28;01mif\u001b[39;00m os\u001b[38;5;241m.\u001b[39mpath\u001b[38;5;241m.\u001b[39mexists(\u001b[38;5;124m\"\u001b[39m\u001b[38;5;124mC:/Users/rani/new_fil.txt\u001b[39m\u001b[38;5;124m\"\u001b[39m):\n\u001b[1;32m----> 2\u001b[0m     \u001b[43mos\u001b[49m\u001b[38;5;241;43m.\u001b[39;49m\u001b[43mremove\u001b[49m\u001b[43m(\u001b[49m\u001b[38;5;124;43m\"\u001b[39;49m\u001b[38;5;124;43mC:/Users/rani/new_fil.txt\u001b[39;49m\u001b[38;5;124;43m\"\u001b[39;49m\u001b[43m)\u001b[49m\n\u001b[0;32m      3\u001b[0m     \u001b[38;5;28mprint\u001b[39m(\u001b[38;5;124m\"\u001b[39m\u001b[38;5;124msuccesfully delteted\u001b[39m\u001b[38;5;124m\"\u001b[39m)\n\u001b[0;32m      4\u001b[0m \u001b[38;5;28;01melse\u001b[39;00m:\n",
      "\u001b[1;31mPermissionError\u001b[0m: [WinError 32] The process cannot access the file because it is being used by another process: 'C:/Users/rani/new_fil.txt'"
     ]
    }
   ],
   "source": [
    "if os.path.exists(\"C:/Users/rani/new_fil.txt\"):\n",
    "    os.remove(\"C:/Users/rani/new_fil.txt\")\n",
    "    print(\"succesfully delteted\")\n",
    "else:\n",
    "    print(\"does exit\")"
   ]
  },
  {
   "cell_type": "code",
   "execution_count": null,
   "id": "392ef565",
   "metadata": {},
   "outputs": [],
   "source": []
  },
  {
   "cell_type": "code",
   "execution_count": null,
   "id": "2c7ed431",
   "metadata": {},
   "outputs": [],
   "source": []
  }
 ],
 "metadata": {
  "kernelspec": {
   "display_name": "Python 3 (ipykernel)",
   "language": "python",
   "name": "python3"
  },
  "language_info": {
   "codemirror_mode": {
    "name": "ipython",
    "version": 3
   },
   "file_extension": ".py",
   "mimetype": "text/x-python",
   "name": "python",
   "nbconvert_exporter": "python",
   "pygments_lexer": "ipython3",
   "version": "3.9.7"
  }
 },
 "nbformat": 4,
 "nbformat_minor": 5
}
