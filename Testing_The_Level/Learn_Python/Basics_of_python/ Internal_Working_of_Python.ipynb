{
 "cells": [
  {
   "cell_type": "code",
   "execution_count": 2,
   "id": "c96bd0a8",
   "metadata": {},
   "outputs": [],
   "source": [
    "import ast #this is a module to evalue expression \n"
   ]
  },
  {
   "cell_type": "code",
   "execution_count": 3,
   "id": "96931df6",
   "metadata": {},
   "outputs": [
    {
     "name": "stdout",
     "output_type": "stream",
     "text": [
      "<ast.Expression object at 0x000001B454ECF640>\n"
     ]
    }
   ],
   "source": [
    "exp = '6+8'\n",
    "code = ast.parse(exp,mode='eval')\n",
    "print(code)\n",
    " "
   ]
  },
  {
   "cell_type": "markdown",
   "id": "230c66c7",
   "metadata": {},
   "source": [
    "After the Python code turned into byte code, it can't be readable by humans. But it makes the interpreter fast, which means byte code is designed for the machine, not for humans."
   ]
  },
  {
   "cell_type": "code",
   "execution_count": 4,
   "id": "74dd750b",
   "metadata": {},
   "outputs": [
    {
     "name": "stdout",
     "output_type": "stream",
     "text": [
      "<code object <module> at 0x000001B454D25DF0, file \"evaluating\", line 1>\n"
     ]
    }
   ],
   "source": [
    "print((compile(code,'evaluating',mode='eval')))\n",
    " "
   ]
  },
  {
   "cell_type": "code",
   "execution_count": 5,
   "id": "fda3047d",
   "metadata": {},
   "outputs": [
    {
     "name": "stdout",
     "output_type": "stream",
     "text": [
      "14\n"
     ]
    }
   ],
   "source": [
    "print(eval(compile(code,'evaluating',mode='eval')))"
   ]
  },
  {
   "cell_type": "code",
   "execution_count": 6,
   "id": "1b3f6ce9",
   "metadata": {},
   "outputs": [
    {
     "name": "stdout",
     "output_type": "stream",
     "text": [
      "Expression(body=BinOp(left=Constant(value=6), op=Add(), right=Constant(value=8)))\n"
     ]
    }
   ],
   "source": [
    "print(ast.dump(code))"
   ]
  },
  {
   "cell_type": "code",
   "execution_count": 7,
   "id": "fceb2f69",
   "metadata": {},
   "outputs": [],
   "source": [
    "exp = '5*7'\n",
    "code = ast.parse(exp,mode='eval')\n"
   ]
  },
  {
   "cell_type": "markdown",
   "id": "fe90d614",
   "metadata": {},
   "source": [
    " "
   ]
  },
  {
   "cell_type": "markdown",
   "id": "88441fbf",
   "metadata": {},
   "source": [
    "\n",
    "AST consists of enough structured information, which makes them helpful in learning about Python code. However, ASTs are still not user-friendly, but they are much understandable than byte code representation."
   ]
  },
  {
   "cell_type": "markdown",
   "id": "765a5b81",
   "metadata": {},
   "source": [
    "we can use ast to extract data enclosed inside string "
   ]
  },
  {
   "cell_type": "code",
   "execution_count": 10,
   "id": "4c6f0c23",
   "metadata": {},
   "outputs": [
    {
     "name": "stdout",
     "output_type": "stream",
     "text": [
      "[1, 2, 3, 4]\n"
     ]
    }
   ],
   "source": [
    "my_data = \"[1,2,3,4]\"\n",
    "print(ast.literal_eval(my_data))"
   ]
  },
  {
   "cell_type": "code",
   "execution_count": 12,
   "id": "68550652",
   "metadata": {},
   "outputs": [
    {
     "name": "stdout",
     "output_type": "stream",
     "text": [
      "<class 'str'>\n",
      "<class 'list'>\n"
     ]
    }
   ],
   "source": [
    "print(type(my_data))\n",
    "print(type(ast.literal_eval(my_data)))"
   ]
  },
  {
   "cell_type": "code",
   "execution_count": null,
   "id": "71c035f1",
   "metadata": {},
   "outputs": [],
   "source": []
  }
 ],
 "metadata": {
  "kernelspec": {
   "display_name": "Python 3 (ipykernel)",
   "language": "python",
   "name": "python3"
  },
  "language_info": {
   "codemirror_mode": {
    "name": "ipython",
    "version": 3
   },
   "file_extension": ".py",
   "mimetype": "text/x-python",
   "name": "python",
   "nbconvert_exporter": "python",
   "pygments_lexer": "ipython3",
   "version": "3.9.7"
  }
 },
 "nbformat": 4,
 "nbformat_minor": 5
}
