{
 "cells": [
  {
   "cell_type": "code",
   "execution_count": 5,
   "id": "7cb68101",
   "metadata": {},
   "outputs": [
    {
     "data": {
      "text/plain": [
       "'RANI'"
      ]
     },
     "execution_count": 5,
     "metadata": {},
     "output_type": "execute_result"
    }
   ],
   "source": [
    "s = \"rani\"\n",
    "s.upper()\n"
   ]
  },
  {
   "cell_type": "code",
   "execution_count": 6,
   "id": "0a491d77",
   "metadata": {},
   "outputs": [
    {
     "ename": "AttributeError",
     "evalue": "'list' object has no attribute 'upper'",
     "output_type": "error",
     "traceback": [
      "\u001b[1;31m---------------------------------------------------------------------------\u001b[0m",
      "\u001b[1;31mAttributeError\u001b[0m                            Traceback (most recent call last)",
      "Input \u001b[1;32mIn [6]\u001b[0m, in \u001b[0;36m<cell line: 2>\u001b[1;34m()\u001b[0m\n\u001b[0;32m      1\u001b[0m l \u001b[38;5;241m=\u001b[39m [\u001b[38;5;241m1\u001b[39m,\u001b[38;5;241m2\u001b[39m,\u001b[38;5;241m3\u001b[39m]\n\u001b[1;32m----> 2\u001b[0m \u001b[43ml\u001b[49m\u001b[38;5;241;43m.\u001b[39;49m\u001b[43mupper\u001b[49m()\n",
      "\u001b[1;31mAttributeError\u001b[0m: 'list' object has no attribute 'upper'"
     ]
    }
   ],
   "source": [
    "l = [1,2,3]\n",
    "l.upper()"
   ]
  },
  {
   "cell_type": "code",
   "execution_count": 7,
   "id": "4c327fe7",
   "metadata": {},
   "outputs": [
    {
     "data": {
      "text/plain": [
       "[2, 3]"
      ]
     },
     "execution_count": 7,
     "metadata": {},
     "output_type": "execute_result"
    }
   ],
   "source": [
    "l.remove(1)\n",
    "l\n"
   ]
  },
  {
   "cell_type": "code",
   "execution_count": 8,
   "id": "09f40d18",
   "metadata": {},
   "outputs": [
    {
     "ename": "AttributeError",
     "evalue": "'str' object has no attribute 'remove'",
     "output_type": "error",
     "traceback": [
      "\u001b[1;31m---------------------------------------------------------------------------\u001b[0m",
      "\u001b[1;31mAttributeError\u001b[0m                            Traceback (most recent call last)",
      "Input \u001b[1;32mIn [8]\u001b[0m, in \u001b[0;36m<cell line: 1>\u001b[1;34m()\u001b[0m\n\u001b[1;32m----> 1\u001b[0m \u001b[43ms\u001b[49m\u001b[38;5;241;43m.\u001b[39;49m\u001b[43mremove\u001b[49m(\u001b[38;5;124m'\u001b[39m\u001b[38;5;124mr\u001b[39m\u001b[38;5;124m'\u001b[39m)\n",
      "\u001b[1;31mAttributeError\u001b[0m: 'str' object has no attribute 'remove'"
     ]
    }
   ],
   "source": [
    "s.remove('r')"
   ]
  },
  {
   "cell_type": "code",
   "execution_count": 9,
   "id": "4d907536",
   "metadata": {},
   "outputs": [
    {
     "ename": "AttributeError",
     "evalue": "'int' object has no attribute 'upper'",
     "output_type": "error",
     "traceback": [
      "\u001b[1;31m---------------------------------------------------------------------------\u001b[0m",
      "\u001b[1;31mAttributeError\u001b[0m                            Traceback (most recent call last)",
      "Input \u001b[1;32mIn [9]\u001b[0m, in \u001b[0;36m<cell line: 2>\u001b[1;34m()\u001b[0m\n\u001b[0;32m      1\u001b[0m k\u001b[38;5;241m=\u001b[39m\u001b[38;5;241m2\u001b[39m\n\u001b[1;32m----> 2\u001b[0m \u001b[43mk\u001b[49m\u001b[38;5;241;43m.\u001b[39;49m\u001b[43mupper\u001b[49m()\n",
      "\u001b[1;31mAttributeError\u001b[0m: 'int' object has no attribute 'upper'"
     ]
    }
   ],
   "source": [
    "k=2\n",
    "k.upper()"
   ]
  },
  {
   "cell_type": "code",
   "execution_count": 10,
   "id": "b4a211f3",
   "metadata": {},
   "outputs": [
    {
     "ename": "AttributeError",
     "evalue": "'bool' object has no attribute 'remove'",
     "output_type": "error",
     "traceback": [
      "\u001b[1;31m---------------------------------------------------------------------------\u001b[0m",
      "\u001b[1;31mAttributeError\u001b[0m                            Traceback (most recent call last)",
      "Input \u001b[1;32mIn [10]\u001b[0m, in \u001b[0;36m<cell line: 2>\u001b[1;34m()\u001b[0m\n\u001b[0;32m      1\u001b[0m a \u001b[38;5;241m=\u001b[39m \u001b[38;5;28;01mTrue\u001b[39;00m\n\u001b[1;32m----> 2\u001b[0m \u001b[43ma\u001b[49m\u001b[38;5;241;43m.\u001b[39;49m\u001b[43mremove\u001b[49m(T)\n",
      "\u001b[1;31mAttributeError\u001b[0m: 'bool' object has no attribute 'remove'"
     ]
    }
   ],
   "source": [
    "a = True\n",
    "a.remove(T)"
   ]
  },
  {
   "cell_type": "markdown",
   "id": "011baecd",
   "metadata": {},
   "source": [
    "we have two variables list and string "
   ]
  },
  {
   "cell_type": "markdown",
   "id": "d506447a",
   "metadata": {},
   "source": [
    "* In Python internally every variable is object.\n",
    "* For Python everything is object.\n",
    "* Every Object is Unique.\n",
    "* Not "
   ]
  },
  {
   "cell_type": "markdown",
   "id": "2e6b5ee1",
   "metadata": {},
   "source": [
    "### 2008 :\n",
    "* Booking manually \n",
    "\n",
    "\n",
    "### 2022 :\n",
    "* online\n",
    "* Managing Model is Hard in traditional Method.\n",
    "\n",
    "\n",
    "\n",
    "\n"
   ]
  },
  {
   "cell_type": "markdown",
   "id": "2dd1108f",
   "metadata": {},
   "source": [
    "### OOPS :\n",
    "* Sets of concepts.\n",
    "* We can create our own datatype.\n",
    "\n",
    "\n",
    "**Generality to Specification.**\n",
    "\n",
    "\n",
    "* Kali Linux : specifically built for hacking . most of software are already install int this  .\n",
    "    "
   ]
  },
  {
   "cell_type": "markdown",
   "id": "c356ef20",
   "metadata": {},
   "source": [
    "## 6 Concept of OOPS :\n",
    "### 1. Object : instance of class \n",
    "* int x = 5 , int x =[1,2,3] , String x =\"rani\" \n",
    "    * here **x** is **object**\n",
    "    \n",
    "### 2. Class : it is a blue print\n",
    "* int x =5 \n",
    "    * here **int** is **class**\n",
    "    \n",
    "### 3. Self : it is a object of class\n",
    "* we can access variables of other function\n",
    "\n"
   ]
  },
  {
   "cell_type": "code",
   "execution_count": 11,
   "id": "f8a3b6cc",
   "metadata": {},
   "outputs": [
    {
     "ename": "TypeError",
     "evalue": "'list' object is not callable",
     "output_type": "error",
     "traceback": [
      "\u001b[1;31m---------------------------------------------------------------------------\u001b[0m",
      "\u001b[1;31mTypeError\u001b[0m                                 Traceback (most recent call last)",
      "Input \u001b[1;32mIn [11]\u001b[0m, in \u001b[0;36m<cell line: 1>\u001b[1;34m()\u001b[0m\n\u001b[1;32m----> 1\u001b[0m l4 \u001b[38;5;241m=\u001b[39m \u001b[38;5;28;43mlist\u001b[39;49m\u001b[43m(\u001b[49m\u001b[43m)\u001b[49m\n\u001b[0;32m      2\u001b[0m l4\n",
      "\u001b[1;31mTypeError\u001b[0m: 'list' object is not callable"
     ]
    }
   ],
   "source": [
    "l4 = list()\n",
    "l4"
   ]
  },
  {
   "cell_type": "markdown",
   "id": "50c027a1",
   "metadata": {},
   "source": [
    "In a class add two things :\n",
    "* Data or Property \n",
    "* Function or Behaviour\n",
    "   "
   ]
  },
  {
   "cell_type": "code",
   "execution_count": 12,
   "id": "00faf847",
   "metadata": {},
   "outputs": [
    {
     "ename": "TypeError",
     "evalue": "'str' object is not callable",
     "output_type": "error",
     "traceback": [
      "\u001b[1;31m---------------------------------------------------------------------------\u001b[0m",
      "\u001b[1;31mTypeError\u001b[0m                                 Traceback (most recent call last)",
      "Input \u001b[1;32mIn [12]\u001b[0m, in \u001b[0;36m<cell line: 1>\u001b[1;34m()\u001b[0m\n\u001b[1;32m----> 1\u001b[0m city \u001b[38;5;241m=\u001b[39m \u001b[38;5;28;43mstr\u001b[39;49m\u001b[43m(\u001b[49m\u001b[43m)\u001b[49m\n\u001b[0;32m      2\u001b[0m city\n",
      "\u001b[1;31mTypeError\u001b[0m: 'str' object is not callable"
     ]
    }
   ],
   "source": [
    "city = str()\n",
    "city\n"
   ]
  },
  {
   "cell_type": "code",
   "execution_count": 13,
   "id": "21df786c",
   "metadata": {},
   "outputs": [
    {
     "data": {
      "text/plain": [
       "0"
      ]
     },
     "execution_count": 13,
     "metadata": {},
     "output_type": "execute_result"
    }
   ],
   "source": [
    "a = int()\n",
    "\n",
    "a"
   ]
  },
  {
   "cell_type": "code",
   "execution_count": 14,
   "id": "6ba5bfb4",
   "metadata": {},
   "outputs": [],
   "source": [
    "import car"
   ]
  },
  {
   "cell_type": "code",
   "execution_count": 15,
   "id": "a9ecd39d",
   "metadata": {},
   "outputs": [
    {
     "name": "stdout",
     "output_type": "stream",
     "text": [
      "color red Top Speed 3\n"
     ]
    }
   ],
   "source": [
    "audi = car.Car()\n",
    "audi.getinfo(\"red\",\"3\")"
   ]
  },
  {
   "cell_type": "code",
   "execution_count": 19,
   "id": "79bca920",
   "metadata": {},
   "outputs": [],
   "source": [
    "import hdfc"
   ]
  },
  {
   "cell_type": "code",
   "execution_count": 20,
   "id": "e9852cdf",
   "metadata": {},
   "outputs": [
    {
     "name": "stdout",
     "output_type": "stream",
     "text": [
      "Hii HDFC Bank \n",
      "Create a four Digit Pin : 101\n",
      " Your Pin has been Created \n",
      "your account number us :  1002\n"
     ]
    }
   ],
   "source": [
    "papu = hdfc.Atm()"
   ]
  },
  {
   "cell_type": "code",
   "execution_count": 21,
   "id": "037b00a1",
   "metadata": {},
   "outputs": [
    {
     "ename": "AttributeError",
     "evalue": "'Atm' object has no attribute 'activate_card'",
     "output_type": "error",
     "traceback": [
      "\u001b[1;31m---------------------------------------------------------------------------\u001b[0m",
      "\u001b[1;31mAttributeError\u001b[0m                            Traceback (most recent call last)",
      "Input \u001b[1;32mIn [21]\u001b[0m, in \u001b[0;36m<cell line: 1>\u001b[1;34m()\u001b[0m\n\u001b[1;32m----> 1\u001b[0m \u001b[43mpapu\u001b[49m\u001b[38;5;241;43m.\u001b[39;49m\u001b[43mactivate_card\u001b[49m()\n",
      "\u001b[1;31mAttributeError\u001b[0m: 'Atm' object has no attribute 'activate_card'"
     ]
    }
   ],
   "source": [
    "papu.activate_card()"
   ]
  },
  {
   "cell_type": "code",
   "execution_count": 22,
   "id": "4dd9a750",
   "metadata": {},
   "outputs": [
    {
     "name": "stdout",
     "output_type": "stream",
     "text": [
      "Enter you Four Digit Pin : 100\n",
      "Dusro ka balance jaan kr kya karoge  *_* \n"
     ]
    }
   ],
   "source": [
    "papu.checkbalance()"
   ]
  },
  {
   "cell_type": "code",
   "execution_count": 23,
   "id": "f412523d",
   "metadata": {},
   "outputs": [
    {
     "name": "stdout",
     "output_type": "stream",
     "text": [
      "Enter you Four Digit Pin :8990\n",
      " Saale Amir Mujhe dede \n"
     ]
    }
   ],
   "source": [
    "papu.deposite()"
   ]
  },
  {
   "cell_type": "code",
   "execution_count": 24,
   "id": "16e40def",
   "metadata": {},
   "outputs": [
    {
     "name": "stdout",
     "output_type": "stream",
     "text": [
      "Enter you Four Digit Pin8907\n",
      "Saale Choorr  *_* \n"
     ]
    }
   ],
   "source": [
    "papu.withdraw()"
   ]
  },
  {
   "cell_type": "code",
   "execution_count": 25,
   "id": "44ea51b7",
   "metadata": {},
   "outputs": [
    {
     "name": "stdout",
     "output_type": "stream",
     "text": [
      "Hii HDFC Bank \n",
      "Create a four Digit Pin : \n",
      " Your Pin has been Created \n",
      "your account number us :  1003\n"
     ]
    }
   ],
   "source": [
    "rishika = hdfc.Atm()"
   ]
  },
  {
   "cell_type": "code",
   "execution_count": 26,
   "id": "92fe69b4",
   "metadata": {},
   "outputs": [
    {
     "ename": "AttributeError",
     "evalue": "'Atm' object has no attribute 'activate_card'",
     "output_type": "error",
     "traceback": [
      "\u001b[1;31m---------------------------------------------------------------------------\u001b[0m",
      "\u001b[1;31mAttributeError\u001b[0m                            Traceback (most recent call last)",
      "Input \u001b[1;32mIn [26]\u001b[0m, in \u001b[0;36m<cell line: 1>\u001b[1;34m()\u001b[0m\n\u001b[1;32m----> 1\u001b[0m \u001b[43mrishika\u001b[49m\u001b[38;5;241;43m.\u001b[39;49m\u001b[43mactivate_card\u001b[49m()\n",
      "\u001b[1;31mAttributeError\u001b[0m: 'Atm' object has no attribute 'activate_card'"
     ]
    }
   ],
   "source": [
    "rishika.activate_card()"
   ]
  },
  {
   "cell_type": "raw",
   "id": "4434d18a",
   "metadata": {},
   "source": []
  },
  {
   "cell_type": "raw",
   "id": "f5d0ed08",
   "metadata": {},
   "source": []
  },
  {
   "cell_type": "code",
   "execution_count": 27,
   "id": "80ecf225",
   "metadata": {},
   "outputs": [
    {
     "name": "stdout",
     "output_type": "stream",
     "text": [
      "Enter you Four Digit Pin :908\n",
      " Saale Amir Mujhe dede \n"
     ]
    }
   ],
   "source": [
    "rishika.deposite()"
   ]
  },
  {
   "cell_type": "code",
   "execution_count": 28,
   "id": "975a870a",
   "metadata": {},
   "outputs": [
    {
     "name": "stdout",
     "output_type": "stream",
     "text": [
      "Enter you Four Digit Pin :8008\n",
      " Saale Amir Mujhe dede \n"
     ]
    }
   ],
   "source": [
    "rishika.deposite()"
   ]
  },
  {
   "cell_type": "code",
   "execution_count": 29,
   "id": "e466dda5",
   "metadata": {},
   "outputs": [
    {
     "name": "stdout",
     "output_type": "stream",
     "text": [
      "Enter you Four Digit Pin : 789\n",
      "Dusro ka balance jaan kr kya karoge  *_* \n"
     ]
    }
   ],
   "source": [
    "rishika.checkbalance()"
   ]
  },
  {
   "cell_type": "code",
   "execution_count": 30,
   "id": "482a5d32",
   "metadata": {},
   "outputs": [
    {
     "name": "stdout",
     "output_type": "stream",
     "text": [
      "Enter you Four Digit Pin807\n",
      "Saale Choorr  *_* \n"
     ]
    }
   ],
   "source": [
    "rishika.withdraw()"
   ]
  },
  {
   "cell_type": "code",
   "execution_count": null,
   "id": "be90c9bd",
   "metadata": {},
   "outputs": [],
   "source": [
    "papu.checkbalance()"
   ]
  },
  {
   "cell_type": "markdown",
   "id": "d0d5d440",
   "metadata": {},
   "source": [
    "## Magic Method : \n",
    "* No need for buttons .\n",
    "* it will execute on its own.\n",
    "* Also Known as A.K.a Dunder Methods \n",
    "\n",
    "### 1. __ init __() Constructor :\n",
    "* it a method whose control has no object.\n",
    "* __init__()\n",
    "* it is a magic method , when we create a class object, it will automatically evoked .\n",
    "* object has no control of this method."
   ]
  },
  {
   "cell_type": "markdown",
   "id": "7f663309",
   "metadata": {},
   "source": [
    "## Before"
   ]
  },
  {
   "cell_type": "code",
   "execution_count": 31,
   "id": "40e5299e",
   "metadata": {},
   "outputs": [
    {
     "name": "stdout",
     "output_type": "stream",
     "text": [
      "Hii HDFC Bank \n",
      "Create a four Digit Pin : 9000\n",
      " Your Pin has been Created \n",
      "your account number us :  1004\n"
     ]
    },
    {
     "ename": "AttributeError",
     "evalue": "'Atm' object has no attribute 'activate_card'",
     "output_type": "error",
     "traceback": [
      "\u001b[1;31m---------------------------------------------------------------------------\u001b[0m",
      "\u001b[1;31mAttributeError\u001b[0m                            Traceback (most recent call last)",
      "Input \u001b[1;32mIn [31]\u001b[0m, in \u001b[0;36m<cell line: 3>\u001b[1;34m()\u001b[0m\n\u001b[0;32m      1\u001b[0m \u001b[38;5;28;01mimport\u001b[39;00m \u001b[38;5;21;01mhdfc\u001b[39;00m\n\u001b[0;32m      2\u001b[0m papu \u001b[38;5;241m=\u001b[39m hdfc\u001b[38;5;241m.\u001b[39mAtm()\n\u001b[1;32m----> 3\u001b[0m \u001b[43mpapu\u001b[49m\u001b[38;5;241;43m.\u001b[39;49m\u001b[43mactivate_card\u001b[49m()\n",
      "\u001b[1;31mAttributeError\u001b[0m: 'Atm' object has no attribute 'activate_card'"
     ]
    }
   ],
   "source": [
    "import hdfc\n",
    "papu = hdfc.Atm()\n",
    "papu.activate_card()"
   ]
  },
  {
   "cell_type": "markdown",
   "id": "c619354a",
   "metadata": {},
   "source": [
    "## After "
   ]
  },
  {
   "cell_type": "code",
   "execution_count": 32,
   "id": "0d6f2d2d",
   "metadata": {},
   "outputs": [
    {
     "name": "stdout",
     "output_type": "stream",
     "text": [
      "Hii HDFC Bank \n",
      "Create a four Digit Pin : 7889\n",
      " Your Pin has been Created \n",
      "your account number us :  1005\n"
     ]
    }
   ],
   "source": [
    "import hdfc\n",
    "papu = hdfc.Atm()"
   ]
  },
  {
   "cell_type": "markdown",
   "id": "0a61cfa4",
   "metadata": {},
   "source": [
    "CLass : Earth\n",
    "\n",
    "Object : Human\n",
    "\n",
    "Programmer : God\n",
    "\n",
    "Constructor : Death\n",
    "\n",
    "\n",
    "Class : Ola\n",
    "\n",
    "Object : Human\n",
    "\n",
    "Constructor : Internet Connection"
   ]
  },
  {
   "cell_type": "code",
   "execution_count": 105,
   "id": "4be0fe32",
   "metadata": {},
   "outputs": [
    {
     "data": {
      "text/plain": [
       "1.5833333333333335"
      ]
     },
     "execution_count": 105,
     "metadata": {},
     "output_type": "execute_result"
    }
   ],
   "source": [
    "3/4 + 5/6"
   ]
  },
  {
   "cell_type": "code",
   "execution_count": 106,
   "id": "f7a07fa6",
   "metadata": {},
   "outputs": [
    {
     "data": {
      "text/plain": [
       "1.0"
      ]
     },
     "execution_count": 106,
     "metadata": {},
     "output_type": "execute_result"
    }
   ],
   "source": [
    "3/5+2/5"
   ]
  },
  {
   "cell_type": "code",
   "execution_count": 33,
   "id": "80c05860",
   "metadata": {},
   "outputs": [
    {
     "data": {
      "text/plain": [
       "fr.Fraction"
      ]
     },
     "execution_count": 33,
     "metadata": {},
     "output_type": "execute_result"
    }
   ],
   "source": [
    "import fr\n",
    "\n",
    "a = fr.Fraction(3,5)\n",
    "\n",
    "type(a)"
   ]
  },
  {
   "cell_type": "code",
   "execution_count": 108,
   "id": "4733a6e2",
   "metadata": {},
   "outputs": [
    {
     "name": "stdout",
     "output_type": "stream",
     "text": [
      "<fr.Fraction object at 0x0000017B2D71F7F0>\n"
     ]
    }
   ],
   "source": [
    "print(a) # this is telling it is stored at here but dont know to show it ."
   ]
  },
  {
   "cell_type": "markdown",
   "id": "6fcda4e9",
   "metadata": {},
   "source": [
    "## 2. __ Str __()"
   ]
  },
  {
   "cell_type": "code",
   "execution_count": 120,
   "id": "ea59a269",
   "metadata": {},
   "outputs": [
    {
     "name": "stdout",
     "output_type": "stream",
     "text": [
      "<class 'frr.Fraction1'>\n",
      "<frr.Fraction1 object at 0x0000017B2D3B88E0>\n"
     ]
    }
   ],
   "source": [
    "import frr\n",
    "\n",
    "a = frr.Fraction1(3,5)\n",
    "\n",
    "print(type(a))\n",
    "print(a)"
   ]
  },
  {
   "cell_type": "code",
   "execution_count": 121,
   "id": "8b2ea730",
   "metadata": {},
   "outputs": [
    {
     "name": "stdout",
     "output_type": "stream",
     "text": [
      "<frr.Fraction1 object at 0x0000017B2D5A4580>\n"
     ]
    }
   ],
   "source": [
    "import frr\n",
    "b = frr.Fraction1(3,4)\n",
    "print(b)"
   ]
  },
  {
   "cell_type": "code",
   "execution_count": null,
   "id": "5e8e85fb",
   "metadata": {},
   "outputs": [],
   "source": []
  },
  {
   "cell_type": "markdown",
   "id": "2c2ad5db",
   "metadata": {},
   "source": [
    "### Benefits of OPPS\n",
    "* Easy of programming\n",
    "* Modularity : code is divided\n",
    "* Reduce code.\n",
    "* Readiability\n",
    "* Efficiency"
   ]
  },
  {
   "cell_type": "markdown",
   "id": "737da1c6",
   "metadata": {},
   "source": [
    "## 3. __ add __(self,other):"
   ]
  },
  {
   "cell_type": "markdown",
   "id": "efc36771",
   "metadata": {},
   "source": [
    "## 4. __ sub __(self,other):"
   ]
  },
  {
   "cell_type": "markdown",
   "id": "cbebfbf3",
   "metadata": {},
   "source": [
    "## 5. __ multiply __(self,other):"
   ]
  },
  {
   "cell_type": "markdown",
   "id": "ba55932f",
   "metadata": {},
   "source": [
    "## 6. __ truediv __(self,other):"
   ]
  },
  {
   "cell_type": "code",
   "execution_count": null,
   "id": "1f57a861",
   "metadata": {},
   "outputs": [],
   "source": []
  }
 ],
 "metadata": {
  "kernelspec": {
   "display_name": "Python 3 (ipykernel)",
   "language": "python",
   "name": "python3"
  },
  "language_info": {
   "codemirror_mode": {
    "name": "ipython",
    "version": 3
   },
   "file_extension": ".py",
   "mimetype": "text/x-python",
   "name": "python",
   "nbconvert_exporter": "python",
   "pygments_lexer": "ipython3",
   "version": "3.9.7"
  }
 },
 "nbformat": 4,
 "nbformat_minor": 5
}
