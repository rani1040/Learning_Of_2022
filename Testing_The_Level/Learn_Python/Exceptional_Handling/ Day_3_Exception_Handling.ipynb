{
 "cells": [
  {
   "cell_type": "markdown",
   "id": "763fa86d",
   "metadata": {},
   "source": [
    "## What is Assertion ?\n",
    "* It is used when we are doing debugging .\n",
    "* It will let you test if condition in your code is returning true, if not program will raise an Assertion Error."
   ]
  },
  {
   "cell_type": "code",
   "execution_count": 1,
   "id": "2564fa31",
   "metadata": {},
   "outputs": [],
   "source": [
    "x = \"rani\"\n"
   ]
  },
  {
   "cell_type": "code",
   "execution_count": 2,
   "id": "6962f76e",
   "metadata": {},
   "outputs": [],
   "source": [
    "assert x==\"rani\""
   ]
  },
  {
   "cell_type": "code",
   "execution_count": 3,
   "id": "b661047e",
   "metadata": {},
   "outputs": [
    {
     "ename": "AssertionError",
     "evalue": "",
     "output_type": "error",
     "traceback": [
      "\u001b[1;31m---------------------------------------------------------------------------\u001b[0m",
      "\u001b[1;31mAssertionError\u001b[0m                            Traceback (most recent call last)",
      "Input \u001b[1;32mIn [3]\u001b[0m, in \u001b[0;36m<cell line: 1>\u001b[1;34m()\u001b[0m\n\u001b[1;32m----> 1\u001b[0m \u001b[38;5;28;01massert\u001b[39;00m x\u001b[38;5;241m==\u001b[39m\u001b[38;5;124m\"\u001b[39m\u001b[38;5;124mani\u001b[39m\u001b[38;5;124m\"\u001b[39m\n",
      "\u001b[1;31mAssertionError\u001b[0m: "
     ]
    }
   ],
   "source": [
    "assert x==\"ani\""
   ]
  },
  {
   "cell_type": "markdown",
   "id": "ce8833af",
   "metadata": {},
   "source": [
    "## Traceback  :\n",
    "**is a python module that provides a standard interface to extract, format and print stack traces of a python program. When it prints the stack trace it exactly mimics the behaviour of a python interpreter. Useful when you want to print the stack trace at any step and that exception or error contains :**\n",
    "\n",
    "\n",
    "* Traceback for most recent call\n",
    "* Location of the program \n",
    "* Line in the program where error was encountered\n",
    "* Name of the error: relevant information about the exception "
   ]
  },
  {
   "cell_type": "code",
   "execution_count": 4,
   "id": "5de97e62",
   "metadata": {},
   "outputs": [
    {
     "name": "stdout",
     "output_type": "stream",
     "text": [
      "still continuing program even after error.\n"
     ]
    },
    {
     "name": "stderr",
     "output_type": "stream",
     "text": [
      "Traceback (most recent call last):\n",
      "  File \"C:\\Users\\rani\\AppData\\Local\\Temp\\ipykernel_23444\\565321080.py\", line 6, in <cell line: 5>\n",
      "    value = L[5]\n",
      "IndexError: list index out of range\n"
     ]
    }
   ],
   "source": [
    "import traceback\n",
    "\n",
    "L =[1,2,3]\n",
    "\n",
    "try :\n",
    "    value = L[5]\n",
    "except:\n",
    "    traceback.print_exc()\n",
    "    \n",
    "    \n",
    "print(\"still continuing program even after error.\")"
   ]
  },
  {
   "cell_type": "markdown",
   "id": "535a60c5",
   "metadata": {},
   "source": [
    "## What do you know about EAFP (Easier to Ask Forgiveness than Permission) programming style?\n",
    "**EAFP** is a style of programming that is common in Python. It involves trying to **execute a piece of code and catching any errors that occur.** This is contrasted with the **LBYL (Look Before You Leap)** style, which involves **checking for errors before trying to execute code.** EAFP is often considered to be more Pythonic, as it is more in line with the Python philosophy of **“we’re all adults here”** and trusting programmers to handle errors as they occur."
   ]
  },
  {
   "cell_type": "markdown",
   "id": "fc94fcc8",
   "metadata": {},
   "source": [
    "## What Does Fatal Error Mean? \n",
    "A fatal error is an error that causes a program to terminate without any warning or saving its state. A fatal error, upon occurring, aborts the application currently running, and may cause the user to lose any unsaved changes made in the program."
   ]
  },
  {
   "cell_type": "markdown",
   "id": "9ed5ddfe",
   "metadata": {},
   "source": [
    " "
   ]
  },
  {
   "cell_type": "code",
   "execution_count": 6,
   "id": "9c71ebab",
   "metadata": {},
   "outputs": [],
   "source": [
    "try :\n",
    "    f = open(\"C:/Users/rani/Documents/agquicksort.c\")\n",
    "except Exception:\n",
    "    print(\"Error\")"
   ]
  },
  {
   "cell_type": "code",
   "execution_count": 7,
   "id": "d144a2f8",
   "metadata": {},
   "outputs": [],
   "source": [
    "try :\n",
    "    f = open(\"C:/Users/rani/Documents/stru.c\")\n",
    "except Exception as e:\n",
    "    print(e)"
   ]
  },
  {
   "cell_type": "code",
   "execution_count": 8,
   "id": "0a766869",
   "metadata": {},
   "outputs": [],
   "source": [
    "try :\n",
    "    f = open(\"C:/Users/rani/Documents/agquicksort.c\")\n",
    "except Exception:\n",
    "    print(\"Error\")\n",
    "else:\n",
    "    f"
   ]
  },
  {
   "cell_type": "code",
   "execution_count": 10,
   "id": "df86964b",
   "metadata": {},
   "outputs": [
    {
     "name": "stdout",
     "output_type": "stream",
     "text": [
      "#include<stdio.h>\n",
      "#include<stdlib.h>\n",
      "struct node{\n",
      "\tint data;\n",
      "\tstruct node *nextptr;\n",
      "};\n",
      "void print(struct node* ptr)\n",
      "{\n",
      "\twhile(ptr!=NULL) //traversing \n",
      "\t{\n",
      "\t\tprintf(\"%d\",ptr->data); //data of ptr\n",
      "\t\tptr=ptr->nextptr;\n",
      "\t}\n",
      " \n",
      "}\n",
      "int main()\n",
      "{\n",
      "\t struct node* head=NULL;\n",
      "\t struct node* second=NULL;\n",
      "\t struct node* third=NULL;\n",
      "\t \n",
      "\t //dynamically memory allocate\n",
      "\t head=(struct node*)malloc(sizeof(struct node));\n",
      "\t second=(struct node*)malloc(sizeof(struct node));\n",
      "\t third=(struct node*)malloc(sizeof(struct node));\n",
      "\t \n",
      "\t //putting value inside linked list\n",
      "\t head->data=5;\n",
      "\t head->nextptr=second;\n",
      "\t second->data=6;\n",
      "\t second->nextptr=third;\n",
      "\t third->data=7;\n",
      "\t third->nextptr=NULL;\n",
      "\t \n",
      "\t print(head);\n",
      "\t return 0;\n",
      "\t \n",
      "}\n",
      "\n"
     ]
    }
   ],
   "source": [
    "try :\n",
    "    f = open(\"C:/Users/rani/Documents/stru.c\")\n",
    "except Exception:\n",
    "    print(\"Error\")\n",
    "else:\n",
    "    print(f.read())\n",
    "    "
   ]
  },
  {
   "cell_type": "code",
   "execution_count": 27,
   "id": "aff893f0",
   "metadata": {},
   "outputs": [
    {
     "name": "stdout",
     "output_type": "stream",
     "text": [
      "<_io.TextIOWrapper name='C:/Users/rani/Documents/stru.c' mode='r' encoding='cp1252'>\n",
      "I am gonna print anyone\n"
     ]
    }
   ],
   "source": [
    "try :\n",
    "    f = open(\"C:/Users/rani/Documents/stru.c\")\n",
    "except Exception:\n",
    "    print(\"Error\")\n",
    "else:\n",
    "    print(f)\n",
    "finally:\n",
    "    print(\"I am gonna print anyone\")"
   ]
  },
  {
   "cell_type": "markdown",
   "id": "375f8bf9",
   "metadata": {},
   "source": [
    "\n"
   ]
  },
  {
   "cell_type": "code",
   "execution_count": 13,
   "id": "8c20f044",
   "metadata": {},
   "outputs": [
    {
     "name": "stdout",
     "output_type": "stream",
     "text": [
      "Error this file not exist. \n",
      "I am gonna print anyone\n"
     ]
    }
   ],
   "source": [
    "try :\n",
    "    f = open(\"C:/Users/rani/Documents/stru.c\")\n",
    "    var = bad_var\n",
    "except Exception:\n",
    "    print(\"Error this file not exist. \")\n",
    "else:\n",
    "    print(f)\n",
    "finally:\n",
    "    print(\"I am gonna print anyone\")"
   ]
  },
  {
   "cell_type": "code",
   "execution_count": 14,
   "id": "167e9086",
   "metadata": {},
   "outputs": [
    {
     "name": "stdout",
     "output_type": "stream",
     "text": [
      "<_io.TextIOWrapper name='C:/Users/rani/Documents/stru.c' mode='r' encoding='cp1252'>\n",
      "I am gonna print anyone\n"
     ]
    }
   ],
   "source": [
    "try :\n",
    "    f = open(\"C:/Users/rani/Documents/stru.c\")\n",
    "    var = 0\n",
    "except FileNotFoundError:\n",
    "    print(\"Error\")\n",
    "else:\n",
    "    print(f)\n",
    "finally:\n",
    "    print(\"I am gonna print anyone\")"
   ]
  },
  {
   "cell_type": "code",
   "execution_count": 20,
   "id": "4ecdcc6d",
   "metadata": {},
   "outputs": [
    {
     "name": "stdout",
     "output_type": "stream",
     "text": [
      "Error no file\n",
      "I am gonna print anyone\n"
     ]
    }
   ],
   "source": [
    "try :\n",
    "    f = open(\"C:/Users/rani/Documents/str.c\")\n",
    "     \n",
    "except  FileNotFoundError:\n",
    "    print(\"Error no file\")\n",
    "except :\n",
    "    print(\"sorry something went wrong\")\n",
    "else:\n",
    "    print(f.read())\n",
    "finally:\n",
    "    print(\"I am gonna print anyone\")"
   ]
  },
  {
   "cell_type": "code",
   "execution_count": 21,
   "id": "4c8c99d5",
   "metadata": {},
   "outputs": [
    {
     "name": "stdout",
     "output_type": "stream",
     "text": [
      "#include<stdio.h>\n",
      "#include<stdlib.h>\n",
      "struct node{\n",
      "\tint data;\n",
      "\tstruct node *nextptr;\n",
      "};\n",
      "void print(struct node* ptr)\n",
      "{\n",
      "\twhile(ptr!=NULL) //traversing \n",
      "\t{\n",
      "\t\tprintf(\"%d\",ptr->data); //data of ptr\n",
      "\t\tptr=ptr->nextptr;\n",
      "\t}\n",
      " \n",
      "}\n",
      "int main()\n",
      "{\n",
      "\t struct node* head=NULL;\n",
      "\t struct node* second=NULL;\n",
      "\t struct node* third=NULL;\n",
      "\t \n",
      "\t //dynamically memory allocate\n",
      "\t head=(struct node*)malloc(sizeof(struct node));\n",
      "\t second=(struct node*)malloc(sizeof(struct node));\n",
      "\t third=(struct node*)malloc(sizeof(struct node));\n",
      "\t \n",
      "\t //putting value inside linked list\n",
      "\t head->data=5;\n",
      "\t head->nextptr=second;\n",
      "\t second->data=6;\n",
      "\t second->nextptr=third;\n",
      "\t third->data=7;\n",
      "\t third->nextptr=NULL;\n",
      "\t \n",
      "\t print(head);\n",
      "\t return 0;\n",
      "\t \n",
      "}\n",
      "\n",
      "I am gonna print anyone\n"
     ]
    }
   ],
   "source": [
    "try :\n",
    "    f = open(\"C:/Users/rani/Documents/stru.c\")\n",
    "    if f.name == \"str.c\":\n",
    "        raise Exception\n",
    "except  FileNotFoundError:\n",
    "    print(\"Error no file\")\n",
    "except  Exception:\n",
    "    print(\"raise our own exception\")\n",
    "else:\n",
    "    print(f.read())\n",
    "finally:\n",
    "    print(\"I am gonna print anyone\")"
   ]
  },
  {
   "cell_type": "code",
   "execution_count": null,
   "id": "3555c11f",
   "metadata": {},
   "outputs": [],
   "source": []
  }
 ],
 "metadata": {
  "kernelspec": {
   "display_name": "Python 3 (ipykernel)",
   "language": "python",
   "name": "python3"
  },
  "language_info": {
   "codemirror_mode": {
    "name": "ipython",
    "version": 3
   },
   "file_extension": ".py",
   "mimetype": "text/x-python",
   "name": "python",
   "nbconvert_exporter": "python",
   "pygments_lexer": "ipython3",
   "version": "3.9.7"
  }
 },
 "nbformat": 4,
 "nbformat_minor": 5
}
